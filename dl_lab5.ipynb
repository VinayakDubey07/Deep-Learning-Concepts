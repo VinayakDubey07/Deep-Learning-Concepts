{
  "nbformat": 4,
  "nbformat_minor": 0,
  "metadata": {
    "colab": {
      "provenance": [],
      "include_colab_link": true
    },
    "kernelspec": {
      "name": "python3",
      "display_name": "Python 3"
    },
    "language_info": {
      "name": "python"
    }
  },
  "cells": [
    {
      "cell_type": "markdown",
      "metadata": {
        "id": "view-in-github",
        "colab_type": "text"
      },
      "source": [
        "<a href=\"https://colab.research.google.com/github/VinayakDubey07/Deep-Learning-Concepts/blob/main/dl_lab5.ipynb\" target=\"_parent\"><img src=\"https://colab.research.google.com/assets/colab-badge.svg\" alt=\"Open In Colab\"/></a>"
      ]
    },
    {
      "cell_type": "code",
      "execution_count": 1,
      "metadata": {
        "id": "RszOvOO7DWsk"
      },
      "outputs": [],
      "source": [
        "import tensorflow as tf\n",
        "from tensorflow import keras\n",
        "import numpy as np\n"
      ]
    },
    {
      "cell_type": "code",
      "source": [
        "(X_train_full, y_train_full), (X_test, y_test) = keras.datasets.fashion_mnist.load_data()"
      ],
      "metadata": {
        "id": "Dn26bd0wDhoO",
        "outputId": "779e1872-70d3-40f5-9ca1-906bf302d05e",
        "colab": {
          "base_uri": "https://localhost:8080/"
        }
      },
      "execution_count": 2,
      "outputs": [
        {
          "output_type": "stream",
          "name": "stdout",
          "text": [
            "Downloading data from https://storage.googleapis.com/tensorflow/tf-keras-datasets/train-labels-idx1-ubyte.gz\n",
            "29515/29515 [==============================] - 0s 0us/step\n",
            "Downloading data from https://storage.googleapis.com/tensorflow/tf-keras-datasets/train-images-idx3-ubyte.gz\n",
            "26421880/26421880 [==============================] - 0s 0us/step\n",
            "Downloading data from https://storage.googleapis.com/tensorflow/tf-keras-datasets/t10k-labels-idx1-ubyte.gz\n",
            "5148/5148 [==============================] - 0s 0us/step\n",
            "Downloading data from https://storage.googleapis.com/tensorflow/tf-keras-datasets/t10k-images-idx3-ubyte.gz\n",
            "4422102/4422102 [==============================] - 0s 0us/step\n"
          ]
        }
      ]
    },
    {
      "cell_type": "code",
      "source": [
        "len(X_train_full)"
      ],
      "metadata": {
        "colab": {
          "base_uri": "https://localhost:8080/"
        },
        "id": "j73AKRu7ERua",
        "outputId": "fc9a3350-e0b1-4772-bb69-f8ac18000021"
      },
      "execution_count": 3,
      "outputs": [
        {
          "output_type": "execute_result",
          "data": {
            "text/plain": [
              "60000"
            ]
          },
          "metadata": {},
          "execution_count": 3
        }
      ]
    },
    {
      "cell_type": "code",
      "source": [
        "len(X_test)"
      ],
      "metadata": {
        "colab": {
          "base_uri": "https://localhost:8080/"
        },
        "id": "R8UxuPXfEVd5",
        "outputId": "51d206cf-b474-4628-c6af-3186cc31b80e"
      },
      "execution_count": 4,
      "outputs": [
        {
          "output_type": "execute_result",
          "data": {
            "text/plain": [
              "10000"
            ]
          },
          "metadata": {},
          "execution_count": 4
        }
      ]
    },
    {
      "cell_type": "code",
      "source": [
        "#train the data\n",
        "X_train_full = X_train_full[:30000]\n",
        "y_train_full = y_train_full[:30000]"
      ],
      "metadata": {
        "id": "9CTW6OSPEXG7"
      },
      "execution_count": 5,
      "outputs": []
    },
    {
      "cell_type": "code",
      "source": [
        "X_test = X_test[:5000]\n",
        "y_test = y_test[:5000]"
      ],
      "metadata": {
        "id": "mB2B7adqEl8a"
      },
      "execution_count": 6,
      "outputs": []
    },
    {
      "cell_type": "code",
      "source": [
        "#scaling the datasets\n",
        "X_train_full = X_train_full / 255.0\n",
        "X_test = X_test / 255.0"
      ],
      "metadata": {
        "id": "TG0B9z7aEta2"
      },
      "execution_count": 7,
      "outputs": []
    },
    {
      "cell_type": "code",
      "source": [
        "#divinding the datasets into training and validation set\n",
        "X_valid, X_train = X_train_full[:5000], X_train_full[5000:]\n",
        "y_valid, y_train = y_train_full[:5000], y_train_full[5000:]"
      ],
      "metadata": {
        "id": "ZwoH_JcRE6jO"
      },
      "execution_count": 8,
      "outputs": []
    },
    {
      "cell_type": "code",
      "source": [
        "def split_dataset(X, y):\n",
        "  y_5_or_6 = (y==5) | (y==6)\n",
        "  y_A = y[~y_5_or_6]\n",
        "  y_A[y_A > 6] -= 2\n",
        "  y_B = (y[y_5_or_6] == 6).astype(np.float32)\n",
        "  return ((X[~y_5_or_6], y_A),\n",
        "          (X[y_5_or_6], y_B))"
      ],
      "metadata": {
        "id": "XqQh0MIOFUfv"
      },
      "execution_count": 9,
      "outputs": []
    },
    {
      "cell_type": "code",
      "source": [
        "(X_train_A, y_train_A), (X_train_B, y_train_B) = split_dataset(X_train, y_train)\n",
        "(X_valid_A, y_valid_A), (X_valid_B, y_valid_B) = split_dataset(X_valid, y_valid)\n",
        "(X_test_A, y_test_A), (X_test_B, y_test_B) = split_dataset(X_test, y_test)"
      ],
      "metadata": {
        "id": "-4nZdM5vGLdJ"
      },
      "execution_count": 10,
      "outputs": []
    },
    {
      "cell_type": "code",
      "source": [
        "X_train_B = X_train_B[:200]\n",
        "y_train_B = y_train_B[:200]"
      ],
      "metadata": {
        "id": "zr_zvrTsIYlH"
      },
      "execution_count": 11,
      "outputs": []
    },
    {
      "cell_type": "code",
      "source": [
        "len(X_train_B)"
      ],
      "metadata": {
        "colab": {
          "base_uri": "https://localhost:8080/"
        },
        "id": "TUfEcz3nNgNT",
        "outputId": "8f60b714-8a63-438c-f444-d21018e42690"
      },
      "execution_count": 12,
      "outputs": [
        {
          "output_type": "execute_result",
          "data": {
            "text/plain": [
              "200"
            ]
          },
          "metadata": {},
          "execution_count": 12
        }
      ]
    },
    {
      "cell_type": "code",
      "source": [
        "X_train_A.shape"
      ],
      "metadata": {
        "colab": {
          "base_uri": "https://localhost:8080/"
        },
        "id": "AvLtIvBBIoW8",
        "outputId": "c5542e1a-db67-433d-9def-065bb914da5a"
      },
      "execution_count": 13,
      "outputs": [
        {
          "output_type": "execute_result",
          "data": {
            "text/plain": [
              "(19875, 28, 28)"
            ]
          },
          "metadata": {},
          "execution_count": 13
        }
      ]
    },
    {
      "cell_type": "code",
      "source": [
        "X_train_B.shape"
      ],
      "metadata": {
        "colab": {
          "base_uri": "https://localhost:8080/"
        },
        "id": "x43HqiWMIs18",
        "outputId": "55e5a69a-ff98-4a9c-a985-3d121ddc99ee"
      },
      "execution_count": 14,
      "outputs": [
        {
          "output_type": "execute_result",
          "data": {
            "text/plain": [
              "(200, 28, 28)"
            ]
          },
          "metadata": {},
          "execution_count": 14
        }
      ]
    },
    {
      "cell_type": "code",
      "source": [
        "y_train_A[:30]"
      ],
      "metadata": {
        "colab": {
          "base_uri": "https://localhost:8080/"
        },
        "id": "Q4bP1UziIves",
        "outputId": "066c5066-5a55-491c-d04c-d39b7a1d258d"
      },
      "execution_count": 15,
      "outputs": [
        {
          "output_type": "execute_result",
          "data": {
            "text/plain": [
              "array([4, 0, 5, 7, 7, 7, 4, 4, 3, 4, 0, 1, 6, 3, 4, 3, 2, 6, 5, 3, 4, 5,\n",
              "       1, 3, 4, 2, 0, 6, 7, 1], dtype=uint8)"
            ]
          },
          "metadata": {},
          "execution_count": 15
        }
      ]
    },
    {
      "cell_type": "code",
      "source": [
        "model_A = keras.models.Sequential()\n",
        "model_A.add(keras.layers.Flatten(input_shape=[28, 28]))\n",
        "for n_hidden in (300, 100, 50, 50, 50):\n",
        "  model_A.add(keras.layers.Dense(n_hidden, activation=\"selu\"))\n",
        "model_A.add(keras.layers.Dense(8, activation=\"softmax\"))"
      ],
      "metadata": {
        "id": "F5EptKorI3C7"
      },
      "execution_count": 16,
      "outputs": []
    },
    {
      "cell_type": "code",
      "source": [
        "#compiling the model\n",
        "model_A.compile(loss=\"sparse_categorical_crossentropy\",\n",
        "                optimizer=keras.optimizers.SGD(lr=1e-3),\n",
        "                metrics=[\"accuracy\"])"
      ],
      "metadata": {
        "colab": {
          "base_uri": "https://localhost:8080/"
        },
        "id": "yvGc2VHxJ2VU",
        "outputId": "2ef1ac31-5134-45df-bdc6-cd8d6b102886"
      },
      "execution_count": 17,
      "outputs": [
        {
          "output_type": "stream",
          "name": "stderr",
          "text": [
            "WARNING:absl:`lr` is deprecated in Keras optimizer, please use `learning_rate` or use the legacy optimizer, e.g.,tf.keras.optimizers.legacy.SGD.\n"
          ]
        }
      ]
    },
    {
      "cell_type": "code",
      "source": [
        "#training the model\n",
        "history = model_A.fit(X_train_A, y_train_A, epochs=5, validation_data=(X_valid_A, y_valid_A))"
      ],
      "metadata": {
        "colab": {
          "base_uri": "https://localhost:8080/"
        },
        "id": "OX0kngJMKg2I",
        "outputId": "2b43b8c6-c63d-41d6-f8a6-6ea8823c9854"
      },
      "execution_count": 18,
      "outputs": [
        {
          "output_type": "stream",
          "name": "stdout",
          "text": [
            "Epoch 1/5\n",
            "622/622 [==============================] - 5s 7ms/step - loss: 0.4358 - accuracy: 0.8467 - val_loss: 0.3053 - val_accuracy: 0.8956\n",
            "Epoch 2/5\n",
            "622/622 [==============================] - 5s 7ms/step - loss: 0.3016 - accuracy: 0.8926 - val_loss: 0.6318 - val_accuracy: 0.8094\n",
            "Epoch 3/5\n",
            "622/622 [==============================] - 6s 10ms/step - loss: 0.2731 - accuracy: 0.9026 - val_loss: 0.7173 - val_accuracy: 0.8099\n",
            "Epoch 4/5\n",
            "622/622 [==============================] - 6s 9ms/step - loss: 0.2574 - accuracy: 0.9082 - val_loss: 0.2625 - val_accuracy: 0.9081\n",
            "Epoch 5/5\n",
            "622/622 [==============================] - 3s 5ms/step - loss: 0.2443 - accuracy: 0.9124 - val_loss: 0.2656 - val_accuracy: 0.9081\n"
          ]
        }
      ]
    },
    {
      "cell_type": "code",
      "source": [
        "model_A.save(\"my_model_A.h5\") # saving the model we created"
      ],
      "metadata": {
        "id": "5ORKxloTK6nO"
      },
      "execution_count": 19,
      "outputs": []
    },
    {
      "cell_type": "code",
      "source": [
        "# defining the model\n",
        "model_B = keras.models.Sequential()\n",
        "model_B.add(keras.layers.Flatten(input_shape=[28, 28]))\n",
        "for n_hidden in (300, 100, 50, 50, 50):\n",
        "  model_B.add(keras.layers.Dense(n_hidden, activation=\"selu\"))\n",
        "model_B.add(keras.layers.Dense(1, activation=\"sigmoid\"))"
      ],
      "metadata": {
        "id": "YPis4wTgLolv"
      },
      "execution_count": 20,
      "outputs": []
    },
    {
      "cell_type": "code",
      "source": [
        "# compiling the model with binary crossentropy\n",
        "# that can accept either logits (i.e values from last linear node, z)\n",
        "# or probabilities from the last Sigmoid node\n",
        "model_B.compile(loss=\"binary_crossentropy\",\n",
        "\n",
        "optimizer=keras.optimizers.SGD(lr=1e-3),\n",
        "metrics=[\"accuracy\"])"
      ],
      "metadata": {
        "colab": {
          "base_uri": "https://localhost:8080/"
        },
        "id": "OP-LKqIqLqwP",
        "outputId": "604c5883-182d-4368-9b08-e4ea3b384f0f"
      },
      "execution_count": 21,
      "outputs": [
        {
          "output_type": "stream",
          "name": "stderr",
          "text": [
            "WARNING:absl:`lr` is deprecated in Keras optimizer, please use `learning_rate` or use the legacy optimizer, e.g.,tf.keras.optimizers.legacy.SGD.\n"
          ]
        }
      ]
    },
    {
      "cell_type": "code",
      "source": [
        "# training the model\n",
        "history = model_B.fit(X_train_B, y_train_B, epochs=5,\n",
        "validation_data=(X_valid_B, y_valid_B))"
      ],
      "metadata": {
        "colab": {
          "base_uri": "https://localhost:8080/"
        },
        "id": "m7kUBwnaLuRd",
        "outputId": "35a0bc29-f349-4117-e447-720e1a7906b4"
      },
      "execution_count": 22,
      "outputs": [
        {
          "output_type": "stream",
          "name": "stdout",
          "text": [
            "Epoch 1/5\n",
            "7/7 [==============================] - 1s 49ms/step - loss: 0.3573 - accuracy: 0.8450 - val_loss: 0.1625 - val_accuracy: 0.9665\n",
            "Epoch 2/5\n",
            "7/7 [==============================] - 0s 20ms/step - loss: 0.0884 - accuracy: 0.9950 - val_loss: 0.1078 - val_accuracy: 0.9777\n",
            "Epoch 3/5\n",
            "7/7 [==============================] - 0s 33ms/step - loss: 0.0565 - accuracy: 0.9950 - val_loss: 0.0846 - val_accuracy: 0.9817\n",
            "Epoch 4/5\n",
            "7/7 [==============================] - 0s 20ms/step - loss: 0.0396 - accuracy: 0.9950 - val_loss: 0.0740 - val_accuracy: 0.9838\n",
            "Epoch 5/5\n",
            "7/7 [==============================] - 0s 20ms/step - loss: 0.0308 - accuracy: 0.9950 - val_loss: 0.0680 - val_accuracy: 0.9838\n"
          ]
        }
      ]
    },
    {
      "cell_type": "code",
      "source": [
        "model_A.summary() # generating model summary"
      ],
      "metadata": {
        "colab": {
          "base_uri": "https://localhost:8080/"
        },
        "id": "sDBGG8diLwF1",
        "outputId": "ae8332c4-c7dd-479e-d6c2-95bb892cd1be"
      },
      "execution_count": 23,
      "outputs": [
        {
          "output_type": "stream",
          "name": "stdout",
          "text": [
            "Model: \"sequential\"\n",
            "_________________________________________________________________\n",
            " Layer (type)                Output Shape              Param #   \n",
            "=================================================================\n",
            " flatten (Flatten)           (None, 784)               0         \n",
            "                                                                 \n",
            " dense (Dense)               (None, 300)               235500    \n",
            "                                                                 \n",
            " dense_1 (Dense)             (None, 100)               30100     \n",
            "                                                                 \n",
            " dense_2 (Dense)             (None, 50)                5050      \n",
            "                                                                 \n",
            " dense_3 (Dense)             (None, 50)                2550      \n",
            "                                                                 \n",
            " dense_4 (Dense)             (None, 50)                2550      \n",
            "                                                                 \n",
            " dense_5 (Dense)             (None, 8)                 408       \n",
            "                                                                 \n",
            "=================================================================\n",
            "Total params: 276,158\n",
            "Trainable params: 276,158\n",
            "Non-trainable params: 0\n",
            "_________________________________________________________________\n"
          ]
        }
      ]
    },
    {
      "cell_type": "code",
      "source": [
        "model_B.summary()"
      ],
      "metadata": {
        "colab": {
          "base_uri": "https://localhost:8080/"
        },
        "id": "WpZ8hnhALxue",
        "outputId": "fa28b3a2-9531-4025-c6bd-7af57d49273c"
      },
      "execution_count": 24,
      "outputs": [
        {
          "output_type": "stream",
          "name": "stdout",
          "text": [
            "Model: \"sequential_1\"\n",
            "_________________________________________________________________\n",
            " Layer (type)                Output Shape              Param #   \n",
            "=================================================================\n",
            " flatten_1 (Flatten)         (None, 784)               0         \n",
            "                                                                 \n",
            " dense_6 (Dense)             (None, 300)               235500    \n",
            "                                                                 \n",
            " dense_7 (Dense)             (None, 100)               30100     \n",
            "                                                                 \n",
            " dense_8 (Dense)             (None, 50)                5050      \n",
            "                                                                 \n",
            " dense_9 (Dense)             (None, 50)                2550      \n",
            "                                                                 \n",
            " dense_10 (Dense)            (None, 50)                2550      \n",
            "                                                                 \n",
            " dense_11 (Dense)            (None, 1)                 51        \n",
            "                                                                 \n",
            "=================================================================\n",
            "Total params: 275,801\n",
            "Trainable params: 275,801\n",
            "Non-trainable params: 0\n",
            "_________________________________________________________________\n"
          ]
        }
      ]
    },
    {
      "cell_type": "code",
      "source": [
        "model_A = keras.models.load_model(\"my_model_A.h5\") # loading our saved model\n",
        "model_B_on_A = keras.models.Sequential(model_A.layers[:-1]) # creating new model based on existing layer\n",
        "model_B_on_A.add(keras.layers.Dense(1, activation=\"sigmoid\")) # adding new layer to new model"
      ],
      "metadata": {
        "id": "IaXU5MJTLznN"
      },
      "execution_count": 25,
      "outputs": []
    },
    {
      "cell_type": "code",
      "source": [
        "# model_A and model_B_on_A now share some layers. When you train\n",
        "# model_B_on_A, it will also affect model_A. To avoid that, you need to clone\n",
        "# model_A before you reuse its layers. To do this, you clone model A’s\n",
        "# architecture with clone_model(), then copy its weights\n",
        "# (since clone_model() does not clone the weights)\n",
        "model_A_clone = keras.models.clone_model(model_A)\n",
        "model_A_clone.set_weights(model_A.get_weights())"
      ],
      "metadata": {
        "id": "ZG6J14wXL37S"
      },
      "execution_count": 26,
      "outputs": []
    },
    {
      "cell_type": "code",
      "source": [
        "# freezing reused layers\n",
        "for layer in model_B_on_A.layers[:3]:\n",
        "  layer.trainable = False"
      ],
      "metadata": {
        "id": "1kuq5j1fL6I1"
      },
      "execution_count": 27,
      "outputs": []
    },
    {
      "cell_type": "code",
      "source": [
        "# compiling the model\n",
        "model_B_on_A.compile(loss=\"binary_crossentropy\",\n",
        "optimizer=keras.optimizers.SGD(lr=1e-3),\n",
        "metrics=[\"accuracy\"])"
      ],
      "metadata": {
        "colab": {
          "base_uri": "https://localhost:8080/"
        },
        "id": "1DNufKamL9Px",
        "outputId": "1bfaf1e4-39e2-4c84-e700-92d40b94b315"
      },
      "execution_count": 28,
      "outputs": [
        {
          "output_type": "stream",
          "name": "stderr",
          "text": [
            "WARNING:absl:`lr` is deprecated in Keras optimizer, please use `learning_rate` or use the legacy optimizer, e.g.,tf.keras.optimizers.legacy.SGD.\n"
          ]
        }
      ]
    },
    {
      "cell_type": "code",
      "source": [
        "# training the model\n",
        "history = model_B_on_A.fit(X_train_B, y_train_B, epochs=4,\n",
        "validation_data=(X_valid_B, y_valid_B))"
      ],
      "metadata": {
        "colab": {
          "base_uri": "https://localhost:8080/"
        },
        "id": "DN6EPI1-MAek",
        "outputId": "487fd330-b899-4acd-c3e8-185dcbf5701d"
      },
      "execution_count": 29,
      "outputs": [
        {
          "output_type": "stream",
          "name": "stdout",
          "text": [
            "Epoch 1/4\n",
            "7/7 [==============================] - 1s 48ms/step - loss: 0.2965 - accuracy: 0.9050 - val_loss: 0.1350 - val_accuracy: 0.9767\n",
            "Epoch 2/4\n",
            "7/7 [==============================] - 0s 31ms/step - loss: 0.0909 - accuracy: 0.9900 - val_loss: 0.0892 - val_accuracy: 0.9828\n",
            "Epoch 3/4\n",
            "7/7 [==============================] - 0s 17ms/step - loss: 0.0598 - accuracy: 1.0000 - val_loss: 0.0699 - val_accuracy: 0.9868\n",
            "Epoch 4/4\n",
            "7/7 [==============================] - 0s 31ms/step - loss: 0.0454 - accuracy: 1.0000 - val_loss: 0.0592 - val_accuracy: 0.9929\n"
          ]
        }
      ]
    },
    {
      "cell_type": "code",
      "source": [
        "# unfreezing reused layers\n",
        "for layer in model_B_on_A.layers[:-1]:  \n",
        "  layer.trainable = True"
      ],
      "metadata": {
        "id": "WG3Zqdg8MChd"
      },
      "execution_count": 30,
      "outputs": []
    },
    {
      "cell_type": "code",
      "source": [
        "# compiling after reducing learning rate to avoid damaging the reused weights\n",
        "model_B_on_A.compile(loss=\"binary_crossentropy\",\n",
        "\n",
        "optimizer=keras.optimizers.SGD(lr=1e-3),\n",
        "metrics=[\"accuracy\"])"
      ],
      "metadata": {
        "colab": {
          "base_uri": "https://localhost:8080/"
        },
        "id": "xi0cBythMG99",
        "outputId": "3554bb45-6b45-48f2-b32c-919261542dfc"
      },
      "execution_count": 31,
      "outputs": [
        {
          "output_type": "stream",
          "name": "stderr",
          "text": [
            "WARNING:absl:`lr` is deprecated in Keras optimizer, please use `learning_rate` or use the legacy optimizer, e.g.,tf.keras.optimizers.legacy.SGD.\n"
          ]
        }
      ]
    },
    {
      "cell_type": "code",
      "source": [
        "# training the model\n",
        "history = model_B_on_A.fit(X_train_B, y_train_B, epochs=5,\n",
        "validation_data=(X_valid_B, y_valid_B))"
      ],
      "metadata": {
        "colab": {
          "base_uri": "https://localhost:8080/"
        },
        "id": "9geEu3NVMIic",
        "outputId": "694dee10-af46-4606-d677-4b536501158c"
      },
      "execution_count": 32,
      "outputs": [
        {
          "output_type": "stream",
          "name": "stdout",
          "text": [
            "Epoch 1/5\n",
            "7/7 [==============================] - 1s 63ms/step - loss: 0.0347 - accuracy: 1.0000 - val_loss: 0.0458 - val_accuracy: 0.9929\n",
            "Epoch 2/5\n",
            "7/7 [==============================] - 0s 32ms/step - loss: 0.0244 - accuracy: 1.0000 - val_loss: 0.0393 - val_accuracy: 0.9939\n",
            "Epoch 3/5\n",
            "7/7 [==============================] - 0s 32ms/step - loss: 0.0187 - accuracy: 1.0000 - val_loss: 0.0347 - val_accuracy: 0.9939\n",
            "Epoch 4/5\n",
            "7/7 [==============================] - 0s 34ms/step - loss: 0.0153 - accuracy: 1.0000 - val_loss: 0.0313 - val_accuracy: 0.9949\n",
            "Epoch 5/5\n",
            "7/7 [==============================] - 0s 33ms/step - loss: 0.0127 - accuracy: 1.0000 - val_loss: 0.0292 - val_accuracy: 0.9949\n"
          ]
        }
      ]
    },
    {
      "cell_type": "code",
      "source": [
        "model_B.evaluate(X_test_B, y_test_B) # evaluating the model A"
      ],
      "metadata": {
        "colab": {
          "base_uri": "https://localhost:8080/"
        },
        "id": "OHv3UE-TMKE9",
        "outputId": "1a4886a9-9ea9-4ff2-b1d8-3f1330f62b91"
      },
      "execution_count": 33,
      "outputs": [
        {
          "output_type": "stream",
          "name": "stdout",
          "text": [
            "31/31 [==============================] - 0s 5ms/step - loss: 0.0559 - accuracy: 0.9835\n"
          ]
        },
        {
          "output_type": "execute_result",
          "data": {
            "text/plain": [
              "[0.055875085294246674, 0.9834539890289307]"
            ]
          },
          "metadata": {},
          "execution_count": 33
        }
      ]
    },
    {
      "cell_type": "code",
      "source": [
        "model_B_on_A.evaluate(X_test_B, y_test_B) # evaluating the model B"
      ],
      "metadata": {
        "colab": {
          "base_uri": "https://localhost:8080/"
        },
        "id": "Xd2KsnFCMLsi",
        "outputId": "ae3d0567-6d62-46f1-a2e7-888e171f872e"
      },
      "execution_count": 34,
      "outputs": [
        {
          "output_type": "stream",
          "name": "stdout",
          "text": [
            "31/31 [==============================] - 0s 4ms/step - loss: 0.0226 - accuracy: 0.9979\n"
          ]
        },
        {
          "output_type": "execute_result",
          "data": {
            "text/plain": [
              "[0.02260442264378071, 0.997931718826294]"
            ]
          },
          "metadata": {},
          "execution_count": 34
        }
      ]
    }
  ]
}