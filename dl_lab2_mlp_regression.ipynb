{
  "nbformat": 4,
  "nbformat_minor": 0,
  "metadata": {
    "colab": {
      "provenance": [],
      "include_colab_link": true
    },
    "kernelspec": {
      "name": "python3",
      "display_name": "Python 3"
    },
    "language_info": {
      "name": "python"
    }
  },
  "cells": [
    {
      "cell_type": "markdown",
      "metadata": {
        "id": "view-in-github",
        "colab_type": "text"
      },
      "source": [
        "<a href=\"https://colab.research.google.com/github/VinayakDubey07/Deep-Learning-Concepts/blob/main/dl_lab2_mlp_regression.ipynb\" target=\"_parent\"><img src=\"https://colab.research.google.com/assets/colab-badge.svg\" alt=\"Open In Colab\"/></a>"
      ]
    },
    {
      "cell_type": "code",
      "execution_count": 1,
      "metadata": {
        "colab": {
          "base_uri": "https://localhost:8080/"
        },
        "id": "DTw3G6mlDqhP",
        "outputId": "81ca70b3-af27-4a8f-cc9c-11df91fde1af"
      },
      "outputs": [
        {
          "output_type": "execute_result",
          "data": {
            "text/plain": [
              "{'data': array([[   8.3252    ,   41.        ,    6.98412698, ...,    2.55555556,\n",
              "           37.88      , -122.23      ],\n",
              "        [   8.3014    ,   21.        ,    6.23813708, ...,    2.10984183,\n",
              "           37.86      , -122.22      ],\n",
              "        [   7.2574    ,   52.        ,    8.28813559, ...,    2.80225989,\n",
              "           37.85      , -122.24      ],\n",
              "        ...,\n",
              "        [   1.7       ,   17.        ,    5.20554273, ...,    2.3256351 ,\n",
              "           39.43      , -121.22      ],\n",
              "        [   1.8672    ,   18.        ,    5.32951289, ...,    2.12320917,\n",
              "           39.43      , -121.32      ],\n",
              "        [   2.3886    ,   16.        ,    5.25471698, ...,    2.61698113,\n",
              "           39.37      , -121.24      ]]),\n",
              " 'target': array([4.526, 3.585, 3.521, ..., 0.923, 0.847, 0.894]),\n",
              " 'frame': None,\n",
              " 'target_names': ['MedHouseVal'],\n",
              " 'feature_names': ['MedInc',\n",
              "  'HouseAge',\n",
              "  'AveRooms',\n",
              "  'AveBedrms',\n",
              "  'Population',\n",
              "  'AveOccup',\n",
              "  'Latitude',\n",
              "  'Longitude'],\n",
              " 'DESCR': '.. _california_housing_dataset:\\n\\nCalifornia Housing dataset\\n--------------------------\\n\\n**Data Set Characteristics:**\\n\\n    :Number of Instances: 20640\\n\\n    :Number of Attributes: 8 numeric, predictive attributes and the target\\n\\n    :Attribute Information:\\n        - MedInc        median income in block group\\n        - HouseAge      median house age in block group\\n        - AveRooms      average number of rooms per household\\n        - AveBedrms     average number of bedrooms per household\\n        - Population    block group population\\n        - AveOccup      average number of household members\\n        - Latitude      block group latitude\\n        - Longitude     block group longitude\\n\\n    :Missing Attribute Values: None\\n\\nThis dataset was obtained from the StatLib repository.\\nhttps://www.dcc.fc.up.pt/~ltorgo/Regression/cal_housing.html\\n\\nThe target variable is the median house value for California districts,\\nexpressed in hundreds of thousands of dollars ($100,000).\\n\\nThis dataset was derived from the 1990 U.S. census, using one row per census\\nblock group. A block group is the smallest geographical unit for which the U.S.\\nCensus Bureau publishes sample data (a block group typically has a population\\nof 600 to 3,000 people).\\n\\nA household is a group of people residing within a home. Since the average\\nnumber of rooms and bedrooms in this dataset are provided per household, these\\ncolumns may take surprisingly large values for block groups with few households\\nand many empty houses, such as vacation resorts.\\n\\nIt can be downloaded/loaded using the\\n:func:`sklearn.datasets.fetch_california_housing` function.\\n\\n.. topic:: References\\n\\n    - Pace, R. Kelley and Ronald Barry, Sparse Spatial Autoregressions,\\n      Statistics and Probability Letters, 33 (1997) 291-297\\n'}"
            ]
          },
          "metadata": {},
          "execution_count": 1
        }
      ],
      "source": [
        "from sklearn.datasets import fetch_california_housing\n",
        "from sklearn.model_selection import train_test_split\n",
        "from sklearn.preprocessing import StandardScaler\n",
        "# TensorFlow and tf.keras\n",
        "import tensorflow as tf\n",
        "from tensorflow import keras\n",
        "housing = fetch_california_housing() # loading the California Housing dataset\n",
        "\n",
        "housing"
      ]
    },
    {
      "cell_type": "code",
      "source": [
        "X_train_full, X_test, y_train_full, y_test = train_test_split(housing.data, housing.target) # test and train\n",
        "X_train, X_valid, y_train, y_valid = train_test_split(X_train_full, y_train_full) # training and validation"
      ],
      "metadata": {
        "id": "JD5bDcrrDx39"
      },
      "execution_count": 2,
      "outputs": []
    },
    {
      "cell_type": "code",
      "source": [
        "len(X_train_full)\n",
        "len(X_test)\n",
        "len(X_train)\n",
        "len(X_valid)\n",
        "y_test"
      ],
      "metadata": {
        "colab": {
          "base_uri": "https://localhost:8080/"
        },
        "id": "sMwxYZcSELOt",
        "outputId": "78a5a151-eafc-4c32-8359-902aa83a6e74"
      },
      "execution_count": 3,
      "outputs": [
        {
          "output_type": "execute_result",
          "data": {
            "text/plain": [
              "array([2.26 , 0.69 , 2.104, ..., 2.157, 0.953, 4.85 ])"
            ]
          },
          "metadata": {},
          "execution_count": 3
        }
      ]
    },
    {
      "cell_type": "code",
      "source": [
        "scaler = StandardScaler() # Using the StandardScaler to scale the dataset\n",
        "X_train = scaler.fit_transform(X_train)\n",
        "X_valid = scaler.transform(X_valid)\n",
        "X_test = scaler.transform(X_test)"
      ],
      "metadata": {
        "id": "FODQkXI-EVGU"
      },
      "execution_count": 4,
      "outputs": []
    },
    {
      "cell_type": "code",
      "source": [
        "X_train.shape, X_valid.shape, X_test.shape #20640 instances"
      ],
      "metadata": {
        "colab": {
          "base_uri": "https://localhost:8080/"
        },
        "id": "0Tk05AGDEXts",
        "outputId": "1882e22f-b257-4026-dcff-73897eb680e2"
      },
      "execution_count": 5,
      "outputs": [
        {
          "output_type": "execute_result",
          "data": {
            "text/plain": [
              "((11610, 8), (3870, 8), (5160, 8))"
            ]
          },
          "metadata": {},
          "execution_count": 5
        }
      ]
    },
    {
      "cell_type": "code",
      "source": [
        "# Creating the model using the Sequential API\n",
        "model = keras.models.Sequential([\n",
        "keras.layers.Dense(30, activation=\"relu\", input_shape=X_train.shape[1:]),\n",
        "keras.layers.Dense(1)\n",
        "])\n",
        "model.compile(loss=\"mean_squared_error\", optimizer=\"sgd\") # compiling the model\n",
        "history = model.fit(X_train, y_train, epochs=20, validation_data=(X_valid, y_valid)) # fit the model"
      ],
      "metadata": {
        "colab": {
          "base_uri": "https://localhost:8080/"
        },
        "id": "wY739nC3Eawk",
        "outputId": "1b16178e-1505-4923-fe1a-46f263c16334"
      },
      "execution_count": 6,
      "outputs": [
        {
          "output_type": "stream",
          "name": "stdout",
          "text": [
            "Epoch 1/20\n",
            "363/363 [==============================] - 6s 13ms/step - loss: 1.0030 - val_loss: 0.5579\n",
            "Epoch 2/20\n",
            "363/363 [==============================] - 3s 8ms/step - loss: 0.5017 - val_loss: 0.4851\n",
            "Epoch 3/20\n",
            "363/363 [==============================] - 3s 10ms/step - loss: 0.4541 - val_loss: 0.4585\n",
            "Epoch 4/20\n",
            "363/363 [==============================] - 2s 4ms/step - loss: 0.4305 - val_loss: 0.4409\n",
            "Epoch 5/20\n",
            "363/363 [==============================] - 3s 9ms/step - loss: 0.4148 - val_loss: 0.4268\n",
            "Epoch 6/20\n",
            "363/363 [==============================] - 1s 4ms/step - loss: 0.4069 - val_loss: 0.4267\n",
            "Epoch 7/20\n",
            "363/363 [==============================] - 1s 4ms/step - loss: 0.4036 - val_loss: 0.4144\n",
            "Epoch 8/20\n",
            "363/363 [==============================] - 1s 3ms/step - loss: 0.3908 - val_loss: 0.4087\n",
            "Epoch 9/20\n",
            "363/363 [==============================] - 1s 3ms/step - loss: 0.3819 - val_loss: 0.4050\n",
            "Epoch 10/20\n",
            "363/363 [==============================] - 1s 4ms/step - loss: 0.3843 - val_loss: 0.4052\n",
            "Epoch 11/20\n",
            "363/363 [==============================] - 1s 2ms/step - loss: 0.3783 - val_loss: 0.4034\n",
            "Epoch 12/20\n",
            "363/363 [==============================] - 1s 2ms/step - loss: 0.3741 - val_loss: 0.3990\n",
            "Epoch 13/20\n",
            "363/363 [==============================] - 1s 2ms/step - loss: 0.3697 - val_loss: 0.3968\n",
            "Epoch 14/20\n",
            "363/363 [==============================] - 1s 2ms/step - loss: 0.3666 - val_loss: 0.3919\n",
            "Epoch 15/20\n",
            "363/363 [==============================] - 1s 2ms/step - loss: 0.3670 - val_loss: 0.3898\n",
            "Epoch 16/20\n",
            "363/363 [==============================] - 1s 3ms/step - loss: 0.3645 - val_loss: 0.3914\n",
            "Epoch 17/20\n",
            "363/363 [==============================] - 1s 3ms/step - loss: 0.3752 - val_loss: 0.4001\n",
            "Epoch 18/20\n",
            "363/363 [==============================] - 1s 2ms/step - loss: 0.3728 - val_loss: 0.3931\n",
            "Epoch 19/20\n",
            "363/363 [==============================] - 1s 2ms/step - loss: 0.3629 - val_loss: 0.4638\n",
            "Epoch 20/20\n",
            "363/363 [==============================] - 1s 2ms/step - loss: 0.3941 - val_loss: 0.3910\n"
          ]
        }
      ]
    },
    {
      "cell_type": "code",
      "source": [
        "model.summary()"
      ],
      "metadata": {
        "colab": {
          "base_uri": "https://localhost:8080/"
        },
        "id": "V6V3NP5EEdUs",
        "outputId": "e18c240b-47be-4023-e801-e85772cd8b43"
      },
      "execution_count": 7,
      "outputs": [
        {
          "output_type": "stream",
          "name": "stdout",
          "text": [
            "Model: \"sequential\"\n",
            "_________________________________________________________________\n",
            " Layer (type)                Output Shape              Param #   \n",
            "=================================================================\n",
            " dense (Dense)               (None, 30)                270       \n",
            "                                                                 \n",
            " dense_1 (Dense)             (None, 1)                 31        \n",
            "                                                                 \n",
            "=================================================================\n",
            "Total params: 301\n",
            "Trainable params: 301\n",
            "Non-trainable params: 0\n",
            "_________________________________________________________________\n"
          ]
        }
      ]
    },
    {
      "cell_type": "code",
      "source": [
        "mse_test = model.evaluate(X_test, y_test) # evaluating"
      ],
      "metadata": {
        "colab": {
          "base_uri": "https://localhost:8080/"
        },
        "id": "UqZl1QenEghL",
        "outputId": "ea41e522-3923-4e23-823a-92b7fba52ac7"
      },
      "execution_count": 8,
      "outputs": [
        {
          "output_type": "stream",
          "name": "stdout",
          "text": [
            "162/162 [==============================] - 0s 1ms/step - loss: 0.5043\n"
          ]
        }
      ]
    },
    {
      "cell_type": "code",
      "source": [
        "X_new = X_test[:3] # pretend these are new instances\n",
        "y_pred = model.predict(X_new)"
      ],
      "metadata": {
        "colab": {
          "base_uri": "https://localhost:8080/"
        },
        "id": "Htdn62kJEijT",
        "outputId": "9f1909ce-b5c6-4567-f002-aaa8c9fe4512"
      },
      "execution_count": 9,
      "outputs": [
        {
          "output_type": "stream",
          "name": "stdout",
          "text": [
            "1/1 [==============================] - 0s 88ms/step\n"
          ]
        }
      ]
    },
    {
      "cell_type": "code",
      "source": [
        "y_pred"
      ],
      "metadata": {
        "colab": {
          "base_uri": "https://localhost:8080/"
        },
        "id": "1ILWEo3YEkWD",
        "outputId": "30af97c9-455b-4db2-8c5c-3bfaf4a9a2c1"
      },
      "execution_count": 10,
      "outputs": [
        {
          "output_type": "execute_result",
          "data": {
            "text/plain": [
              "array([[2.7016037],\n",
              "       [0.5100306],\n",
              "       [1.78226  ]], dtype=float32)"
            ]
          },
          "metadata": {},
          "execution_count": 10
        }
      ]
    },
    {
      "cell_type": "code",
      "source": [
        "model.save(\"my_keras_model.h5\")"
      ],
      "metadata": {
        "id": "TsiNjsCDEmY0"
      },
      "execution_count": 11,
      "outputs": []
    },
    {
      "cell_type": "code",
      "source": [
        "!strings my_keras_model.h5"
      ],
      "metadata": {
        "colab": {
          "base_uri": "https://localhost:8080/"
        },
        "id": "4k2ekFexEwNk",
        "outputId": "ada0d6ed-be0e-4c1c-91cf-9cd4f7ebdc0c"
      },
      "execution_count": 12,
      "outputs": [
        {
          "output_type": "stream",
          "name": "stdout",
          "text": [
            "TREE\n",
            "HEAP\n",
            "model_weights\n",
            "optimizer_weights\n",
            "keras_version\n",
            "backend\n",
            "model_config\n",
            "training_config\n",
            "TREE\n",
            "HEAP\n",
            "dense\n",
            "dense_1\n",
            "top_level_model_weights\n",
            "layer_names\n",
            "backend\n",
            "GCOL\n",
            "2.12.0\n",
            "tensorflow\n",
            "{\"class_name\": \"Sequential\", \"config\": {\"name\": \"sequential\", \"layers\": [{\"class_name\": \"InputLayer\", \"config\": {\"batch_input_shape\": [null, 8], \"dtype\": \"float32\", \"sparse\": false, \"ragged\": false, \"name\": \"dense_input\"}}, {\"class_name\": \"Dense\", \"config\": {\"name\": \"dense\", \"trainable\": true, \"dtype\": \"float32\", \"batch_input_shape\": [null, 8], \"units\": 30, \"activation\": \"relu\", \"use_bias\": true, \"kernel_initializer\": {\"class_name\": \"GlorotUniform\", \"config\": {\"seed\": null}}, \"bias_initializer\": {\"class_name\": \"Zeros\", \"config\": {}}, \"kernel_regularizer\": null, \"bias_regularizer\": null, \"activity_regularizer\": null, \"kernel_constraint\": null, \"bias_constraint\": null}}, {\"class_name\": \"Dense\", \"config\": {\"name\": \"dense_1\", \"trainable\": true, \"dtype\": \"float32\", \"units\": 1, \"activation\": \"linear\", \"use_bias\": true, \"kernel_initializer\": {\"class_name\": \"GlorotUniform\", \"config\": {\"seed\": null}}, \"bias_initializer\": {\"class_name\": \"Zeros\", \"config\": {}}, \"kernel_regularizer\": null, \"bias_regularizer\": null, \"activity_regularizer\": null, \"kernel_constraint\": null, \"bias_constraint\": null}}]}}\n",
            "{\"loss\": \"mean_squared_error\", \"metrics\": null, \"weighted_metrics\": null, \"loss_weights\": null, \"optimizer_config\": {\"class_name\": \"Custom>SGD\", \"config\": {\"name\": \"SGD\", \"weight_decay\": null, \"clipnorm\": null, \"global_clipnorm\": null, \"clipvalue\": null, \"use_ema\": false, \"ema_momentum\": 0.99, \"ema_overwrite_frequency\": null, \"jit_compile\": false, \"is_legacy_optimizer\": false, \"learning_rate\": 0.009999999776482582, \"momentum\": 0.0, \"nesterov\": false}}}\n",
            "dense_1\n",
            "dense\n",
            "tensorflow\n",
            "2.12.0\n",
            "dense/bias:0\n",
            "dense/kernel:0\n",
            "dense_1/bias:0\n",
            "dense_1/kernel:0\n",
            "SGD/m/dense_1/kernel:0\n",
            "SGD/m/dense_1/bias:0\n",
            "SGD/m/dense/bias:0\n",
            "SGD/m/dense/kernel:0\n",
            "iteration:0\n",
            "SNOD\n",
            "keras_version\n",
            "TREE\n",
            "HEAP\n",
            "dense\n",
            "SNOD\n",
            "weight_names\n",
            "TREE\n",
            "HEAP\n",
            "kernel:0\n",
            "bias:0\n",
            "SNOD\n",
            "SNOD\n",
            "TK>(\n",
            "U=>.\n",
            "o=3C\n",
            ">S%Y>\n",
            "c>|u\n",
            "Y>3X@>+\n",
            "53>g<\n",
            "wu >\n",
            ">'>)>\n",
            ">PF<\n",
            "<~md\n",
            "Q>*}\n",
            "D[U>'\n",
            "o>XW*?\n",
            "<l6(>z\n",
            "LK?u\n",
            "TREE\n",
            "HEAP\n",
            "dense_1\n",
            "weight_names\n",
            "TREE\n",
            "HEAP\n",
            "kernel:0\n",
            "bias:0\n",
            "SNOD\n",
            "SNOD\n",
            "TREE\n",
            "HEAP\n",
            "weight_names\n",
            "TREE\n",
            "HEAP\n",
            "iteration:0\n",
            "weight_names\n",
            "SNOD\n",
            "TREE\n",
            "HEAP\n",
            "TREE\n",
            "HEAP\n",
            "dense\n",
            "dense_1\n",
            "SNOD\n",
            "TREE\n",
            "HEAP\n",
            "kernel:0\n",
            "bias:0\n",
            "SNOD\n",
            "SNOD\n",
            "7>u<9\n",
            "9[_s9\n",
            "88]S\n",
            "W|<8\n",
            "=B8T\n",
            "48'I8\n",
            "7)%\t\n",
            ">|W;\n",
            "XBT9+\n",
            ";K9E\n",
            "18sK\n",
            "T<:9\n",
            "TREE\n",
            "HEAP\n",
            "kernel:0\n",
            "bias:0\n",
            "SNOD\n"
          ]
        }
      ]
    },
    {
      "cell_type": "code",
      "source": [
        "model1 = keras.models.load_model(\"my_keras_model.h5\") # Loading the model"
      ],
      "metadata": {
        "id": "xvtIowI5E0TV"
      },
      "execution_count": 13,
      "outputs": []
    },
    {
      "cell_type": "code",
      "source": [
        "model.predict(X_new) # predicting using the model"
      ],
      "metadata": {
        "colab": {
          "base_uri": "https://localhost:8080/"
        },
        "id": "gub2OGWgE2K8",
        "outputId": "f761047b-a95a-4996-b4c2-222130c4f125"
      },
      "execution_count": 14,
      "outputs": [
        {
          "output_type": "stream",
          "name": "stdout",
          "text": [
            "1/1 [==============================] - 0s 26ms/step\n"
          ]
        },
        {
          "output_type": "execute_result",
          "data": {
            "text/plain": [
              "array([[2.7016037],\n",
              "       [0.5100306],\n",
              "       [1.78226  ]], dtype=float32)"
            ]
          },
          "metadata": {},
          "execution_count": 14
        }
      ]
    },
    {
      "cell_type": "code",
      "source": [
        "model.save_weights(\"my_keras_weights.ckpt\") # saving the weights\n",
        "model.load_weights(\"my_keras_weights.ckpt\") # loading the saved weights"
      ],
      "metadata": {
        "colab": {
          "base_uri": "https://localhost:8080/"
        },
        "id": "Nui-CjwjE4eE",
        "outputId": "21f8cb87-9cd7-4af3-a6be-83aaf2a0443d"
      },
      "execution_count": 15,
      "outputs": [
        {
          "output_type": "execute_result",
          "data": {
            "text/plain": [
              "<tensorflow.python.checkpoint.checkpoint.CheckpointLoadStatus at 0x7fc08cadd330>"
            ]
          },
          "metadata": {},
          "execution_count": 15
        }
      ]
    },
    {
      "cell_type": "markdown",
      "source": [
        "**Complex MLP using functional API**"
      ],
      "metadata": {
        "id": "oRnu9fPOGhhT"
      }
    },
    {
      "cell_type": "code",
      "source": [
        "#defining layers\n",
        "\n",
        "input_= keras.layers.Input(shape=X_train.shape[1:])\n",
        "hidden1 = keras.layers.Dense(30, activation=\"relu\")(input_) \n",
        "hidden2 = keras.layers.Dense(30, activation=\"relu\")(hidden1)\n",
        "concat = keras.layers.concatenate([input_, hidden2])\n",
        "output = keras.layers.Dense(1)(concat)\n",
        "model = keras.models.Model(inputs=[input_], outputs=[output])"
      ],
      "metadata": {
        "id": "jGqYwdNpGql7"
      },
      "execution_count": 16,
      "outputs": []
    },
    {
      "cell_type": "code",
      "source": [
        "model.summary()"
      ],
      "metadata": {
        "colab": {
          "base_uri": "https://localhost:8080/"
        },
        "id": "BbO-xMKGxQMh",
        "outputId": "d7c7739e-6017-4038-c719-3b9a97bf7cca"
      },
      "execution_count": 17,
      "outputs": [
        {
          "output_type": "stream",
          "name": "stdout",
          "text": [
            "Model: \"model\"\n",
            "__________________________________________________________________________________________________\n",
            " Layer (type)                   Output Shape         Param #     Connected to                     \n",
            "==================================================================================================\n",
            " input_1 (InputLayer)           [(None, 8)]          0           []                               \n",
            "                                                                                                  \n",
            " dense_2 (Dense)                (None, 30)           270         ['input_1[0][0]']                \n",
            "                                                                                                  \n",
            " dense_3 (Dense)                (None, 30)           930         ['dense_2[0][0]']                \n",
            "                                                                                                  \n",
            " concatenate (Concatenate)      (None, 38)           0           ['input_1[0][0]',                \n",
            "                                                                  'dense_3[0][0]']                \n",
            "                                                                                                  \n",
            " dense_4 (Dense)                (None, 1)            39          ['concatenate[0][0]']            \n",
            "                                                                                                  \n",
            "==================================================================================================\n",
            "Total params: 1,239\n",
            "Trainable params: 1,239\n",
            "Non-trainable params: 0\n",
            "__________________________________________________________________________________________________\n"
          ]
        }
      ]
    },
    {
      "cell_type": "code",
      "source": [
        "model.compile(loss=\"mean_squared_error\", optimizer=keras.optimizers.SGD(learning_rate=1e-3))\n",
        "history = model.fit(X_train, y_train,epochs=20,validation_data=[X_valid,y_valid])\n",
        "mse_test=model.evaluate(X_test,y_test) "
      ],
      "metadata": {
        "colab": {
          "base_uri": "https://localhost:8080/"
        },
        "id": "7udbL9K4xorM",
        "outputId": "5f9e260c-5c76-4c97-f123-0a93d70eff67"
      },
      "execution_count": 18,
      "outputs": [
        {
          "output_type": "stream",
          "name": "stdout",
          "text": [
            "Epoch 1/20\n",
            "363/363 [==============================] - 1s 2ms/step - loss: 1.4300 - val_loss: 0.8383\n",
            "Epoch 2/20\n",
            "363/363 [==============================] - 1s 2ms/step - loss: 0.6917 - val_loss: 0.7317\n",
            "Epoch 3/20\n",
            "363/363 [==============================] - 1s 2ms/step - loss: 0.6385 - val_loss: 0.6675\n",
            "Epoch 4/20\n",
            "363/363 [==============================] - 1s 2ms/step - loss: 0.6114 - val_loss: 0.6353\n",
            "Epoch 5/20\n",
            "363/363 [==============================] - 1s 2ms/step - loss: 0.5894 - val_loss: 0.6133\n",
            "Epoch 6/20\n",
            "363/363 [==============================] - 1s 2ms/step - loss: 0.5710 - val_loss: 0.5989\n",
            "Epoch 7/20\n",
            "363/363 [==============================] - 1s 2ms/step - loss: 0.5535 - val_loss: 0.5793\n",
            "Epoch 8/20\n",
            "363/363 [==============================] - 1s 2ms/step - loss: 0.5423 - val_loss: 0.5674\n",
            "Epoch 9/20\n",
            "363/363 [==============================] - 1s 2ms/step - loss: 0.5299 - val_loss: 0.5561\n",
            "Epoch 10/20\n",
            "363/363 [==============================] - 1s 2ms/step - loss: 0.5216 - val_loss: 0.5510\n",
            "Epoch 11/20\n",
            "363/363 [==============================] - 1s 2ms/step - loss: 0.5130 - val_loss: 0.5365\n",
            "Epoch 12/20\n",
            "363/363 [==============================] - 1s 3ms/step - loss: 0.5046 - val_loss: 0.5284\n",
            "Epoch 13/20\n",
            "363/363 [==============================] - 1s 3ms/step - loss: 0.4973 - val_loss: 0.5221\n",
            "Epoch 14/20\n",
            "363/363 [==============================] - 1s 3ms/step - loss: 0.4929 - val_loss: 0.5151\n",
            "Epoch 15/20\n",
            "363/363 [==============================] - 1s 2ms/step - loss: 0.4868 - val_loss: 0.5096\n",
            "Epoch 16/20\n",
            "363/363 [==============================] - 1s 2ms/step - loss: 0.4818 - val_loss: 0.5042\n",
            "Epoch 17/20\n",
            "363/363 [==============================] - 1s 2ms/step - loss: 0.4767 - val_loss: 0.5019\n",
            "Epoch 18/20\n",
            "363/363 [==============================] - 1s 2ms/step - loss: 0.4724 - val_loss: 0.4935\n",
            "Epoch 19/20\n",
            "363/363 [==============================] - 1s 2ms/step - loss: 0.4686 - val_loss: 0.4903\n",
            "Epoch 20/20\n",
            "363/363 [==============================] - 1s 2ms/step - loss: 0.4646 - val_loss: 0.4847\n",
            "162/162 [==============================] - 0s 1ms/step - loss: 0.4513\n"
          ]
        }
      ]
    },
    {
      "cell_type": "code",
      "source": [
        "mse_test"
      ],
      "metadata": {
        "colab": {
          "base_uri": "https://localhost:8080/"
        },
        "id": "y2X7g1_309tD",
        "outputId": "47d274e9-50c4-442a-bce1-31b5043fa328"
      },
      "execution_count": 19,
      "outputs": [
        {
          "output_type": "execute_result",
          "data": {
            "text/plain": [
              "0.4512759745121002"
            ]
          },
          "metadata": {},
          "execution_count": 19
        }
      ]
    },
    {
      "cell_type": "code",
      "source": [
        "y_pred=model.predict(X_test)"
      ],
      "metadata": {
        "colab": {
          "base_uri": "https://localhost:8080/"
        },
        "id": "wBg8BKU41CM6",
        "outputId": "79d431c0-6b1d-4a9a-c94b-5a7c7f97547d"
      },
      "execution_count": 20,
      "outputs": [
        {
          "output_type": "stream",
          "name": "stdout",
          "text": [
            "162/162 [==============================] - 0s 2ms/step\n"
          ]
        }
      ]
    },
    {
      "cell_type": "code",
      "source": [
        "y_pred"
      ],
      "metadata": {
        "colab": {
          "base_uri": "https://localhost:8080/"
        },
        "id": "9beKbl_L1bKi",
        "outputId": "9cca9876-380e-4093-9fb1-46f43e0d968a"
      },
      "execution_count": 21,
      "outputs": [
        {
          "output_type": "execute_result",
          "data": {
            "text/plain": [
              "array([[2.5266006 ],\n",
              "       [0.56109643],\n",
              "       [1.9931233 ],\n",
              "       ...,\n",
              "       [2.5645053 ],\n",
              "       [1.3564849 ],\n",
              "       [3.3625429 ]], dtype=float32)"
            ]
          },
          "metadata": {},
          "execution_count": 21
        }
      ]
    },
    {
      "cell_type": "markdown",
      "source": [
        "**Creating a model with different no of layers**"
      ],
      "metadata": {
        "id": "nm-Y7EhP1irP"
      }
    },
    {
      "cell_type": "code",
      "source": [
        "input_A = keras.layers.Input(shape=[5], name=\"wide_input\")\n",
        "input_B = keras.layers.Input(shape=[6], name=\"deep_input\")\n",
        "hidden1 = keras.layers.Dense(30, activation=\"relu\")(input_B)\n",
        "hidden2 = keras.layers.Dense(30, activation=\"relu\")(hidden1)\n",
        "concat = keras.layers.concatenate([input_A, hidden2])\n",
        "output = keras.layers.Dense(1, name=\"output\")(concat)\n",
        "model = keras.models.Model(inputs=[input_A, input_B], outputs=[output])"
      ],
      "metadata": {
        "id": "Z9AbnybP1dS3"
      },
      "execution_count": 22,
      "outputs": []
    },
    {
      "cell_type": "code",
      "source": [
        "input_A"
      ],
      "metadata": {
        "colab": {
          "base_uri": "https://localhost:8080/"
        },
        "id": "Xrif5buC2plP",
        "outputId": "5ca0d716-1314-43ab-d169-e8ebff4d9852"
      },
      "execution_count": 23,
      "outputs": [
        {
          "output_type": "execute_result",
          "data": {
            "text/plain": [
              "<KerasTensor: shape=(None, 5) dtype=float32 (created by layer 'wide_input')>"
            ]
          },
          "metadata": {},
          "execution_count": 23
        }
      ]
    },
    {
      "cell_type": "code",
      "source": [
        "model.summary()"
      ],
      "metadata": {
        "colab": {
          "base_uri": "https://localhost:8080/"
        },
        "id": "jE91Yh6t2tjR",
        "outputId": "a8876585-a754-4d78-d5d8-8f07d4684ffc"
      },
      "execution_count": 24,
      "outputs": [
        {
          "output_type": "stream",
          "name": "stdout",
          "text": [
            "Model: \"model_1\"\n",
            "__________________________________________________________________________________________________\n",
            " Layer (type)                   Output Shape         Param #     Connected to                     \n",
            "==================================================================================================\n",
            " deep_input (InputLayer)        [(None, 6)]          0           []                               \n",
            "                                                                                                  \n",
            " dense_5 (Dense)                (None, 30)           210         ['deep_input[0][0]']             \n",
            "                                                                                                  \n",
            " wide_input (InputLayer)        [(None, 5)]          0           []                               \n",
            "                                                                                                  \n",
            " dense_6 (Dense)                (None, 30)           930         ['dense_5[0][0]']                \n",
            "                                                                                                  \n",
            " concatenate_1 (Concatenate)    (None, 35)           0           ['wide_input[0][0]',             \n",
            "                                                                  'dense_6[0][0]']                \n",
            "                                                                                                  \n",
            " output (Dense)                 (None, 1)            36          ['concatenate_1[0][0]']          \n",
            "                                                                                                  \n",
            "==================================================================================================\n",
            "Total params: 1,176\n",
            "Trainable params: 1,176\n",
            "Non-trainable params: 0\n",
            "__________________________________________________________________________________________________\n"
          ]
        }
      ]
    },
    {
      "cell_type": "code",
      "source": [
        "model.compile(loss=\"mae\", optimizer=keras.optimizers.SGD(learning_rate=1e-3))"
      ],
      "metadata": {
        "id": "MnbDPJJG3pjI"
      },
      "execution_count": 25,
      "outputs": []
    },
    {
      "cell_type": "code",
      "source": [
        "X_train_A, X_train_B = X_train[:, :5] , X_train[:, 2:]\n",
        "X_valid_A, X_valid_B = X_valid[:, :5] , X_valid[:, 2:]\n",
        "X_test_A , X_test_B = X_test[:, :5] , X_test[:, 2:]\n",
        "X_new_A, X_new_B = X_test_A[:3] , X_test_B[:3]"
      ],
      "metadata": {
        "id": "joA7RqFe3G0p"
      },
      "execution_count": 26,
      "outputs": []
    },
    {
      "cell_type": "code",
      "source": [
        "history = model.fit((X_train_A, X_train_B), y_train,epochs=20,validation_data=((X_valid_A, X_valid_B), y_valid))\n",
        "mse_test = model.evaluate((X_test_A, X_test_B), y_test)\n",
        "y_pred = model.predict((X_new_A, X_new_B))"
      ],
      "metadata": {
        "colab": {
          "base_uri": "https://localhost:8080/"
        },
        "id": "FmyP9Qnv4V4t",
        "outputId": "c2b1f666-ef89-4e6b-a6e2-0acfbe137146"
      },
      "execution_count": 27,
      "outputs": [
        {
          "output_type": "stream",
          "name": "stdout",
          "text": [
            "Epoch 1/20\n",
            "363/363 [==============================] - 2s 3ms/step - loss: 1.5430 - val_loss: 1.1902\n",
            "Epoch 2/20\n",
            "363/363 [==============================] - 1s 2ms/step - loss: 0.9736 - val_loss: 0.8656\n",
            "Epoch 3/20\n",
            "363/363 [==============================] - 1s 2ms/step - loss: 0.8034 - val_loss: 0.7715\n",
            "Epoch 4/20\n",
            "363/363 [==============================] - 1s 2ms/step - loss: 0.7384 - val_loss: 0.7202\n",
            "Epoch 5/20\n",
            "363/363 [==============================] - 1s 2ms/step - loss: 0.6992 - val_loss: 0.6876\n",
            "Epoch 6/20\n",
            "363/363 [==============================] - 1s 2ms/step - loss: 0.6713 - val_loss: 0.6639\n",
            "Epoch 7/20\n",
            "363/363 [==============================] - 1s 2ms/step - loss: 0.6503 - val_loss: 0.6456\n",
            "Epoch 8/20\n",
            "363/363 [==============================] - 1s 2ms/step - loss: 0.6332 - val_loss: 0.6308\n",
            "Epoch 9/20\n",
            "363/363 [==============================] - 1s 2ms/step - loss: 0.6188 - val_loss: 0.6173\n",
            "Epoch 10/20\n",
            "363/363 [==============================] - 1s 2ms/step - loss: 0.6057 - val_loss: 0.6050\n",
            "Epoch 11/20\n",
            "363/363 [==============================] - 1s 2ms/step - loss: 0.5937 - val_loss: 0.5939\n",
            "Epoch 12/20\n",
            "363/363 [==============================] - 1s 2ms/step - loss: 0.5825 - val_loss: 0.5838\n",
            "Epoch 13/20\n",
            "363/363 [==============================] - 1s 2ms/step - loss: 0.5719 - val_loss: 0.5737\n",
            "Epoch 14/20\n",
            "363/363 [==============================] - 1s 2ms/step - loss: 0.5616 - val_loss: 0.5642\n",
            "Epoch 15/20\n",
            "363/363 [==============================] - 1s 3ms/step - loss: 0.5518 - val_loss: 0.5550\n",
            "Epoch 16/20\n",
            "363/363 [==============================] - 1s 3ms/step - loss: 0.5427 - val_loss: 0.5462\n",
            "Epoch 17/20\n",
            "363/363 [==============================] - 1s 2ms/step - loss: 0.5339 - val_loss: 0.5376\n",
            "Epoch 18/20\n",
            "363/363 [==============================] - 1s 2ms/step - loss: 0.5258 - val_loss: 0.5302\n",
            "Epoch 19/20\n",
            "363/363 [==============================] - 1s 2ms/step - loss: 0.5184 - val_loss: 0.5240\n",
            "Epoch 20/20\n",
            "363/363 [==============================] - 1s 2ms/step - loss: 0.5119 - val_loss: 0.5175\n",
            "162/162 [==============================] - 0s 1ms/step - loss: 0.4963\n",
            "1/1 [==============================] - 0s 62ms/step\n"
          ]
        }
      ]
    },
    {
      "cell_type": "code",
      "source": [
        "y_pred"
      ],
      "metadata": {
        "colab": {
          "base_uri": "https://localhost:8080/"
        },
        "id": "k4eNPmsv5G-7",
        "outputId": "fa1181c3-d2bb-4444-9fa5-8df72f2b2a40"
      },
      "execution_count": 28,
      "outputs": [
        {
          "output_type": "execute_result",
          "data": {
            "text/plain": [
              "array([[2.364515 ],\n",
              "       [0.6209118],\n",
              "       [1.808229 ]], dtype=float32)"
            ]
          },
          "metadata": {},
          "execution_count": 28
        }
      ]
    },
    {
      "cell_type": "code",
      "source": [
        "output = keras.layers.Dense(1, name=\"main_output\")(concat)\n",
        "aux_output = keras.layers.Dense(1, name=\"aux_output\")(hidden2)\n",
        "model = keras.Model(inputs=[input_A, input_B], outputs=[output, aux_output])"
      ],
      "metadata": {
        "id": "HppMYP6Q8VyY"
      },
      "execution_count": 29,
      "outputs": []
    },
    {
      "cell_type": "code",
      "source": [
        "model.compile(loss=[\"mae\",\"mse\"], loss_weights=[], optimizer=keras.optimizers.SGD(learning_rate=1e-3))"
      ],
      "metadata": {
        "id": "IXd_GZqp9DXE"
      },
      "execution_count": 30,
      "outputs": []
    },
    {
      "cell_type": "markdown",
      "source": [
        "**Using Callbacks during Training**"
      ],
      "metadata": {
        "id": "DLp3mv_rEJJJ"
      }
    },
    {
      "cell_type": "code",
      "source": [
        "import numpy as np\n",
        "\n",
        "keras.backend.clear_session()\n",
        "np.random.seed(42)\n",
        "tf.random.set_seed(42)"
      ],
      "metadata": {
        "id": "rGqYQiCmEK5J"
      },
      "execution_count": 31,
      "outputs": []
    },
    {
      "cell_type": "code",
      "source": [
        "# Defining the model to demostrate callbacks\n",
        "model = keras.models.Sequential([\n",
        "keras.layers.Dense(30, activation=\"relu\", input_shape=[8]),\n",
        "keras.layers.Dense(30, activation=\"relu\"),\n",
        "keras.layers.Dense(1)\n",
        "])\n",
        "\n",
        "model.compile(loss=\"mse\", optimizer=keras.optimizers.SGD(lr=1e-3))\n",
        "checkpoint_cb = keras.callbacks.ModelCheckpoint(\"my_keras_model.h5\", save_best_only=True) # saving the best model checkpoint\n",
        "history = model.fit(X_train, y_train, epochs=10,\n",
        "validation_data=(X_valid, y_valid),\n",
        "callbacks=[checkpoint_cb]) # using the callback\n",
        "model = keras.models.load_model(\"my_keras_model.h5\") # rollback to best model\n",
        "mse_test = model.evaluate(X_test, y_test)"
      ],
      "metadata": {
        "colab": {
          "base_uri": "https://localhost:8080/"
        },
        "id": "PYSXQEa5ENn7",
        "outputId": "95cc3dcc-fa4a-4442-b7ff-f9a7f188730c"
      },
      "execution_count": 32,
      "outputs": [
        {
          "output_type": "stream",
          "name": "stderr",
          "text": [
            "WARNING:absl:`lr` is deprecated in Keras optimizer, please use `learning_rate` or use the legacy optimizer, e.g.,tf.keras.optimizers.legacy.SGD.\n"
          ]
        },
        {
          "output_type": "stream",
          "name": "stdout",
          "text": [
            "Epoch 1/10\n",
            "363/363 [==============================] - 1s 2ms/step - loss: 0.7189 - val_loss: 0.4994\n",
            "Epoch 2/10\n",
            "363/363 [==============================] - 1s 2ms/step - loss: 0.4607 - val_loss: 0.4356\n",
            "Epoch 3/10\n",
            "363/363 [==============================] - 1s 3ms/step - loss: 0.4035 - val_loss: 0.4095\n",
            "Epoch 4/10\n",
            "363/363 [==============================] - 1s 3ms/step - loss: 0.3783 - val_loss: 0.3984\n",
            "Epoch 5/10\n",
            "363/363 [==============================] - 1s 2ms/step - loss: 0.3959 - val_loss: 0.4529\n",
            "Epoch 6/10\n",
            "363/363 [==============================] - 1s 2ms/step - loss: 0.3714 - val_loss: 0.3932\n",
            "Epoch 7/10\n",
            "363/363 [==============================] - 1s 2ms/step - loss: 0.3716 - val_loss: 0.3803\n",
            "Epoch 8/10\n",
            "363/363 [==============================] - 1s 2ms/step - loss: 0.3606 - val_loss: 0.3794\n",
            "Epoch 9/10\n",
            "363/363 [==============================] - 1s 2ms/step - loss: 0.3462 - val_loss: 0.3699\n",
            "Epoch 10/10\n",
            "363/363 [==============================] - 1s 3ms/step - loss: 0.3405 - val_loss: 0.3685\n",
            "162/162 [==============================] - 0s 1ms/step - loss: 0.3452\n"
          ]
        }
      ]
    },
    {
      "cell_type": "code",
      "source": [
        "model.compile(loss=\"mse\", optimizer=keras.optimizers.SGD(lr=1e-3))\n",
        "early_stopping_cb = keras.callbacks.EarlyStopping(patience=5,\n",
        "\n",
        "restore_best_weights=True) # saving early stopping\n",
        "\n",
        "history = model.fit(X_train, y_train, epochs=100,\n",
        "validation_data=(X_valid, y_valid),\n",
        "callbacks=[checkpoint_cb, early_stopping_cb]) # using the callback for checkpoint, and early stopping\n",
        "\n",
        "mse_test = model.evaluate(X_test, y_test)"
      ],
      "metadata": {
        "colab": {
          "base_uri": "https://localhost:8080/"
        },
        "id": "mbSi2cowE9Rm",
        "outputId": "bc919e38-2a9f-415c-c59a-70506176537e"
      },
      "execution_count": 33,
      "outputs": [
        {
          "output_type": "stream",
          "name": "stderr",
          "text": [
            "WARNING:absl:`lr` is deprecated in Keras optimizer, please use `learning_rate` or use the legacy optimizer, e.g.,tf.keras.optimizers.legacy.SGD.\n"
          ]
        },
        {
          "output_type": "stream",
          "name": "stdout",
          "text": [
            "Epoch 1/100\n",
            "363/363 [==============================] - 1s 2ms/step - loss: 0.3418 - val_loss: 0.3634\n",
            "Epoch 2/100\n",
            "363/363 [==============================] - 1s 2ms/step - loss: 0.3361 - val_loss: 0.3648\n",
            "Epoch 3/100\n",
            "363/363 [==============================] - 1s 2ms/step - loss: 0.3325 - val_loss: 0.3560\n",
            "Epoch 4/100\n",
            "363/363 [==============================] - 1s 2ms/step - loss: 0.3284 - val_loss: 0.3551\n",
            "Epoch 5/100\n",
            "363/363 [==============================] - 1s 3ms/step - loss: 0.3258 - val_loss: 0.3593\n",
            "Epoch 6/100\n",
            "363/363 [==============================] - 1s 3ms/step - loss: 0.3275 - val_loss: 0.3534\n",
            "Epoch 7/100\n",
            "363/363 [==============================] - 1s 3ms/step - loss: 0.3230 - val_loss: 0.3504\n",
            "Epoch 8/100\n",
            "363/363 [==============================] - 1s 2ms/step - loss: 0.3198 - val_loss: 0.3512\n",
            "Epoch 9/100\n",
            "363/363 [==============================] - 1s 2ms/step - loss: 0.3175 - val_loss: 0.3459\n",
            "Epoch 10/100\n",
            "363/363 [==============================] - 1s 2ms/step - loss: 0.3147 - val_loss: 0.3426\n",
            "Epoch 11/100\n",
            "363/363 [==============================] - 1s 2ms/step - loss: 0.3136 - val_loss: 0.3354\n",
            "Epoch 12/100\n",
            "363/363 [==============================] - 1s 2ms/step - loss: 0.3111 - val_loss: 0.3409\n",
            "Epoch 13/100\n",
            "363/363 [==============================] - 1s 2ms/step - loss: 0.3099 - val_loss: 0.3425\n",
            "Epoch 14/100\n",
            "363/363 [==============================] - 1s 2ms/step - loss: 0.3092 - val_loss: 0.3413\n",
            "Epoch 15/100\n",
            "363/363 [==============================] - 1s 2ms/step - loss: 0.3093 - val_loss: 0.3322\n",
            "Epoch 16/100\n",
            "363/363 [==============================] - 1s 2ms/step - loss: 0.3072 - val_loss: 0.3286\n",
            "Epoch 17/100\n",
            "363/363 [==============================] - 1s 2ms/step - loss: 0.3057 - val_loss: 0.3304\n",
            "Epoch 18/100\n",
            "363/363 [==============================] - 1s 2ms/step - loss: 0.3049 - val_loss: 0.3484\n",
            "Epoch 19/100\n",
            "363/363 [==============================] - 1s 2ms/step - loss: 0.3030 - val_loss: 0.3374\n",
            "Epoch 20/100\n",
            "363/363 [==============================] - 1s 2ms/step - loss: 0.3023 - val_loss: 0.3294\n",
            "Epoch 21/100\n",
            "363/363 [==============================] - 1s 2ms/step - loss: 0.3008 - val_loss: 0.3242\n",
            "Epoch 22/100\n",
            "363/363 [==============================] - 1s 3ms/step - loss: 0.3016 - val_loss: 0.3255\n",
            "Epoch 23/100\n",
            "363/363 [==============================] - 1s 3ms/step - loss: 0.3003 - val_loss: 0.3297\n",
            "Epoch 24/100\n",
            "363/363 [==============================] - 1s 2ms/step - loss: 0.2986 - val_loss: 0.3283\n",
            "Epoch 25/100\n",
            "363/363 [==============================] - 1s 2ms/step - loss: 0.2974 - val_loss: 0.3219\n",
            "Epoch 26/100\n",
            "363/363 [==============================] - 1s 2ms/step - loss: 0.2964 - val_loss: 0.3256\n",
            "Epoch 27/100\n",
            "363/363 [==============================] - 1s 2ms/step - loss: 0.2958 - val_loss: 0.3269\n",
            "Epoch 28/100\n",
            "363/363 [==============================] - 1s 2ms/step - loss: 0.2954 - val_loss: 0.3237\n",
            "Epoch 29/100\n",
            "363/363 [==============================] - 1s 2ms/step - loss: 0.2933 - val_loss: 0.3225\n",
            "Epoch 30/100\n",
            "363/363 [==============================] - 1s 2ms/step - loss: 0.2936 - val_loss: 0.3220\n",
            "162/162 [==============================] - 0s 1ms/step - loss: 0.3067\n"
          ]
        }
      ]
    },
    {
      "cell_type": "markdown",
      "source": [
        "**Trying Hyper-parameter Tuning**"
      ],
      "metadata": {
        "id": "jWPgdvpsFDbY"
      }
    },
    {
      "cell_type": "code",
      "source": [
        "def build_model(n_hidden=1, n_neurons=30, learning_rate=3e-3, input_shape=[8]):\n",
        "  model = keras.models.Sequential()\n",
        "  model.add(keras.layers.InputLayer(input_shape=input_shape))\n",
        "  for layer in range(n_hidden):\n",
        "    model.add(keras.layers.Dense(n_neurons, activation=\"relu\"))\n",
        "  model.add(keras.layers.Dense(1))\n",
        "  optimizer = keras.optimizers.SGD(learning_rate=learning_rate)\n",
        "  model.compile(loss=\"mse\", optimizer=optimizer)\n",
        "  return model\n",
        "\n",
        "keras_reg = keras.wrappers.scikit_learn.KerasRegressor(build_model)"
      ],
      "metadata": {
        "colab": {
          "base_uri": "https://localhost:8080/"
        },
        "id": "lPu1bSktFFvI",
        "outputId": "52e97a93-4d4e-4df0-faed-5edcc76f2ffd"
      },
      "execution_count": 34,
      "outputs": [
        {
          "output_type": "stream",
          "name": "stderr",
          "text": [
            "<ipython-input-34-ddb07a810127>:11: DeprecationWarning: KerasRegressor is deprecated, use Sci-Keras (https://github.com/adriangb/scikeras) instead. See https://www.adriangb.com/scikeras/stable/migration.html for help migrating.\n",
            "  keras_reg = keras.wrappers.scikit_learn.KerasRegressor(build_model)\n"
          ]
        }
      ]
    },
    {
      "cell_type": "code",
      "source": [
        "keras_reg.fit(X_train, y_train, epochs=100,\n",
        "validation_data=(X_valid, y_valid),\n",
        "callbacks=[keras.callbacks.EarlyStopping(patience=10)])"
      ],
      "metadata": {
        "id": "f_PwcFY4HBXX"
      },
      "execution_count": null,
      "outputs": []
    },
    {
      "cell_type": "code",
      "source": [
        "mse_test = keras_reg.score(X_test, y_test)"
      ],
      "metadata": {
        "colab": {
          "base_uri": "https://localhost:8080/"
        },
        "id": "2R9gE6CpHOOo",
        "outputId": "c08388f1-7de0-45b8-8959-dc50537c927f"
      },
      "execution_count": 36,
      "outputs": [
        {
          "output_type": "stream",
          "name": "stdout",
          "text": [
            "162/162 [==============================] - 0s 1ms/step - loss: 0.3498\n"
          ]
        }
      ]
    },
    {
      "cell_type": "code",
      "source": [
        "y_pred = keras_reg.predict(X_new)"
      ],
      "metadata": {
        "colab": {
          "base_uri": "https://localhost:8080/"
        },
        "id": "ArPKTwckHS6_",
        "outputId": "d1024735-62c0-4e1a-c584-974ac85b90dc"
      },
      "execution_count": 37,
      "outputs": [
        {
          "output_type": "stream",
          "name": "stdout",
          "text": [
            "1/1 [==============================] - 0s 61ms/step\n"
          ]
        }
      ]
    },
    {
      "cell_type": "code",
      "source": [
        "from scipy.stats import reciprocal\n",
        "from sklearn.model_selection import RandomizedSearchCV\n",
        "param_distribs = {\n",
        "\"n_hidden\": [0, 1, 2, 3],\n",
        "\"n_neurons\": np.arange(1, 100),\n",
        "\"learning_rate\": reciprocal(3e-4, 3e-2),\n",
        "}\n",
        "rnd_search_cv = RandomizedSearchCV(keras_reg, param_distribs, n_iter=3, cv=2, verbose=2)\n",
        "\n",
        "rnd_search_cv.fit(X_train, y_train, epochs=10,\n",
        "validation_data=(X_valid, y_valid),\n",
        "callbacks=[keras.callbacks.EarlyStopping(patience=3)])"
      ],
      "metadata": {
        "colab": {
          "base_uri": "https://localhost:8080/",
          "height": 1000
        },
        "id": "uVNnh1YPHT4D",
        "outputId": "9b3f009b-06e8-461e-f742-9fc1e4d1c1d0"
      },
      "execution_count": 38,
      "outputs": [
        {
          "output_type": "stream",
          "name": "stdout",
          "text": [
            "Fitting 2 folds for each of 3 candidates, totalling 6 fits\n",
            "Epoch 1/10\n",
            "182/182 [==============================] - 1s 3ms/step - loss: 5.6397 - val_loss: 3.3362\n",
            "Epoch 2/10\n",
            "182/182 [==============================] - 0s 2ms/step - loss: 1.9844 - val_loss: 1.5092\n",
            "Epoch 3/10\n",
            "182/182 [==============================] - 1s 3ms/step - loss: 1.0559 - val_loss: 0.9201\n",
            "Epoch 4/10\n",
            "182/182 [==============================] - 0s 2ms/step - loss: 0.7627 - val_loss: 0.7168\n",
            "Epoch 5/10\n",
            "182/182 [==============================] - 0s 2ms/step - loss: 0.6648 - val_loss: 0.6470\n",
            "Epoch 6/10\n",
            "182/182 [==============================] - 0s 2ms/step - loss: 0.6262 - val_loss: 0.6170\n",
            "Epoch 7/10\n",
            "182/182 [==============================] - 0s 2ms/step - loss: 0.6085 - val_loss: 0.6033\n",
            "Epoch 8/10\n",
            "182/182 [==============================] - 0s 2ms/step - loss: 0.5975 - val_loss: 0.5942\n",
            "Epoch 9/10\n",
            "182/182 [==============================] - 0s 2ms/step - loss: 0.5898 - val_loss: 0.5876\n",
            "Epoch 10/10\n",
            "182/182 [==============================] - 0s 2ms/step - loss: 0.5836 - val_loss: 0.5829\n",
            "182/182 [==============================] - 0s 1ms/step - loss: 0.5740\n",
            "[CV] END learning_rate=0.001683454924600351, n_hidden=0, n_neurons=15; total time=   5.1s\n",
            "Epoch 1/10\n",
            "182/182 [==============================] - 1s 3ms/step - loss: 4.2705 - val_loss: 2.5290\n",
            "Epoch 2/10\n",
            "182/182 [==============================] - 0s 2ms/step - loss: 1.6502 - val_loss: 1.2382\n",
            "Epoch 3/10\n",
            "182/182 [==============================] - 0s 2ms/step - loss: 0.9635 - val_loss: 0.8337\n",
            "Epoch 4/10\n",
            "182/182 [==============================] - 0s 2ms/step - loss: 0.7399 - val_loss: 0.6951\n",
            "Epoch 5/10\n",
            "182/182 [==============================] - 0s 2ms/step - loss: 0.6598 - val_loss: 0.6405\n",
            "Epoch 6/10\n",
            "182/182 [==============================] - 0s 2ms/step - loss: 0.6267 - val_loss: 0.6165\n",
            "Epoch 7/10\n",
            "182/182 [==============================] - 0s 2ms/step - loss: 0.6088 - val_loss: 0.6032\n",
            "Epoch 8/10\n",
            "182/182 [==============================] - 0s 2ms/step - loss: 0.5971 - val_loss: 0.5937\n",
            "Epoch 9/10\n",
            "182/182 [==============================] - 0s 2ms/step - loss: 0.5877 - val_loss: 0.5859\n",
            "Epoch 10/10\n",
            "182/182 [==============================] - 1s 4ms/step - loss: 0.5798 - val_loss: 0.5792\n",
            "182/182 [==============================] - 0s 2ms/step - loss: 0.5809\n",
            "[CV] END learning_rate=0.001683454924600351, n_hidden=0, n_neurons=15; total time=   5.9s\n",
            "Epoch 1/10\n",
            "182/182 [==============================] - 1s 3ms/step - loss: 1.6534 - val_loss: 0.7362\n",
            "Epoch 2/10\n",
            "182/182 [==============================] - 0s 2ms/step - loss: 2.1730 - val_loss: 0.6349\n",
            "Epoch 3/10\n",
            "182/182 [==============================] - 0s 2ms/step - loss: 0.7101 - val_loss: 0.6515\n",
            "Epoch 4/10\n",
            "182/182 [==============================] - 0s 2ms/step - loss: 2.6038 - val_loss: 0.6366\n",
            "Epoch 5/10\n",
            "182/182 [==============================] - 0s 2ms/step - loss: 0.7143 - val_loss: 0.6354\n",
            "182/182 [==============================] - 0s 1ms/step - loss: 0.6364\n",
            "[CV] END learning_rate=0.008731907739399206, n_hidden=0, n_neurons=21; total time=   3.0s\n",
            "Epoch 1/10\n",
            "182/182 [==============================] - 1s 3ms/step - loss: 1.8213 - val_loss: 0.5583\n",
            "Epoch 2/10\n",
            "182/182 [==============================] - 0s 2ms/step - loss: 0.5274 - val_loss: 0.5324\n",
            "Epoch 3/10\n",
            "182/182 [==============================] - 0s 2ms/step - loss: 0.5155 - val_loss: 0.5434\n",
            "Epoch 4/10\n",
            "182/182 [==============================] - 0s 2ms/step - loss: 0.5065 - val_loss: 0.5753\n",
            "Epoch 5/10\n",
            "182/182 [==============================] - 0s 2ms/step - loss: 0.5070 - val_loss: 0.5121\n",
            "Epoch 6/10\n",
            "182/182 [==============================] - 0s 2ms/step - loss: 0.5151 - val_loss: 0.5105\n",
            "Epoch 7/10\n",
            "182/182 [==============================] - 0s 2ms/step - loss: 0.5343 - val_loss: 0.5254\n",
            "Epoch 8/10\n",
            "182/182 [==============================] - 0s 2ms/step - loss: 0.5033 - val_loss: 0.6423\n",
            "Epoch 9/10\n",
            "182/182 [==============================] - 0s 2ms/step - loss: 0.5160 - val_loss: 0.5160\n",
            "182/182 [==============================] - 0s 1ms/step - loss: 2.1601\n",
            "[CV] END learning_rate=0.008731907739399206, n_hidden=0, n_neurons=21; total time=   5.8s\n",
            "Epoch 1/10\n",
            "182/182 [==============================] - 1s 3ms/step - loss: 3.2575 - val_loss: 1.9953\n",
            "Epoch 2/10\n",
            "182/182 [==============================] - 0s 2ms/step - loss: 1.4731 - val_loss: 1.2395\n",
            "Epoch 3/10\n",
            "182/182 [==============================] - 1s 4ms/step - loss: 1.0250 - val_loss: 0.9822\n",
            "Epoch 4/10\n",
            "182/182 [==============================] - 1s 4ms/step - loss: 0.8644 - val_loss: 0.8631\n",
            "Epoch 5/10\n",
            "182/182 [==============================] - 1s 4ms/step - loss: 0.7960 - val_loss: 0.7992\n",
            "Epoch 6/10\n",
            "182/182 [==============================] - 1s 4ms/step - loss: 0.7577 - val_loss: 0.7620\n",
            "Epoch 7/10\n",
            "182/182 [==============================] - 0s 2ms/step - loss: 0.7321 - val_loss: 0.7364\n",
            "Epoch 8/10\n",
            "182/182 [==============================] - 0s 2ms/step - loss: 0.7116 - val_loss: 0.7147\n",
            "Epoch 9/10\n",
            "182/182 [==============================] - 0s 3ms/step - loss: 0.6940 - val_loss: 0.6988\n",
            "Epoch 10/10\n",
            "182/182 [==============================] - 0s 3ms/step - loss: 0.6781 - val_loss: 0.6831\n",
            "182/182 [==============================] - 0s 1ms/step - loss: 0.6399\n",
            "[CV] END learning_rate=0.0006154014789262348, n_hidden=2, n_neurons=87; total time=  11.1s\n",
            "Epoch 1/10\n",
            "182/182 [==============================] - 1s 3ms/step - loss: 3.2972 - val_loss: 2.0656\n",
            "Epoch 2/10\n",
            "182/182 [==============================] - 0s 3ms/step - loss: 1.5015 - val_loss: 1.3036\n",
            "Epoch 3/10\n",
            "182/182 [==============================] - 0s 2ms/step - loss: 1.0641 - val_loss: 1.0061\n",
            "Epoch 4/10\n",
            "182/182 [==============================] - 0s 2ms/step - loss: 0.8740 - val_loss: 0.8535\n",
            "Epoch 5/10\n",
            "182/182 [==============================] - 0s 2ms/step - loss: 0.7751 - val_loss: 0.7733\n",
            "Epoch 6/10\n",
            "182/182 [==============================] - 1s 4ms/step - loss: 0.7208 - val_loss: 0.7299\n",
            "Epoch 7/10\n",
            "182/182 [==============================] - 1s 5ms/step - loss: 0.6874 - val_loss: 0.7031\n",
            "Epoch 8/10\n",
            "182/182 [==============================] - 1s 4ms/step - loss: 0.6645 - val_loss: 0.6834\n",
            "Epoch 9/10\n",
            "182/182 [==============================] - 1s 4ms/step - loss: 0.6464 - val_loss: 0.6682\n",
            "Epoch 10/10\n",
            "182/182 [==============================] - 0s 3ms/step - loss: 0.6311 - val_loss: 0.6543\n",
            "182/182 [==============================] - 0s 1ms/step - loss: 0.7915\n",
            "[CV] END learning_rate=0.0006154014789262348, n_hidden=2, n_neurons=87; total time=   6.7s\n",
            "Epoch 1/10\n",
            "363/363 [==============================] - 1s 2ms/step - loss: 3.3400 - val_loss: 1.2336\n",
            "Epoch 2/10\n",
            "363/363 [==============================] - 1s 2ms/step - loss: 0.8796 - val_loss: 0.7334\n",
            "Epoch 3/10\n",
            "363/363 [==============================] - 1s 2ms/step - loss: 0.6818 - val_loss: 0.6656\n",
            "Epoch 4/10\n",
            "363/363 [==============================] - 1s 2ms/step - loss: 0.6423 - val_loss: 0.6446\n",
            "Epoch 5/10\n",
            "363/363 [==============================] - 1s 2ms/step - loss: 0.6205 - val_loss: 0.6263\n",
            "Epoch 6/10\n",
            "363/363 [==============================] - 1s 2ms/step - loss: 0.6058 - val_loss: 0.6096\n",
            "Epoch 7/10\n",
            "363/363 [==============================] - 1s 2ms/step - loss: 0.5937 - val_loss: 0.6026\n",
            "Epoch 8/10\n",
            "363/363 [==============================] - 1s 2ms/step - loss: 0.5818 - val_loss: 0.5954\n",
            "Epoch 9/10\n",
            "363/363 [==============================] - 1s 2ms/step - loss: 0.5740 - val_loss: 0.5882\n",
            "Epoch 10/10\n",
            "363/363 [==============================] - 1s 2ms/step - loss: 0.5657 - val_loss: 0.5813\n"
          ]
        },
        {
          "output_type": "execute_result",
          "data": {
            "text/plain": [
              "RandomizedSearchCV(cv=2,\n",
              "                   estimator=<keras.wrappers.scikit_learn.KerasRegressor object at 0x7fc089e263e0>,\n",
              "                   n_iter=3,\n",
              "                   param_distributions={'learning_rate': <scipy.stats._distn_infrastructure.rv_continuous_frozen object at 0x7fc089d20d60>,\n",
              "                                        'n_hidden': [0, 1, 2, 3],\n",
              "                                        'n_neurons': array([ 1,  2,  3,  4,  5,  6,  7,  8,  9, 10, 11, 12, 13, 14, 15, 16, 17,\n",
              "       18, 19, 20, 21, 22, 23, 24, 25, 26, 27, 28, 29, 30, 31, 32, 33, 34,\n",
              "       35, 36, 37, 38, 39, 40, 41, 42, 43, 44, 45, 46, 47, 48, 49, 50, 51,\n",
              "       52, 53, 54, 55, 56, 57, 58, 59, 60, 61, 62, 63, 64, 65, 66, 67, 68,\n",
              "       69, 70, 71, 72, 73, 74, 75, 76, 77, 78, 79, 80, 81, 82, 83, 84, 85,\n",
              "       86, 87, 88, 89, 90, 91, 92, 93, 94, 95, 96, 97, 98, 99])},\n",
              "                   verbose=2)"
            ],
            "text/html": [
              "<style>#sk-container-id-1 {color: black;background-color: white;}#sk-container-id-1 pre{padding: 0;}#sk-container-id-1 div.sk-toggleable {background-color: white;}#sk-container-id-1 label.sk-toggleable__label {cursor: pointer;display: block;width: 100%;margin-bottom: 0;padding: 0.3em;box-sizing: border-box;text-align: center;}#sk-container-id-1 label.sk-toggleable__label-arrow:before {content: \"▸\";float: left;margin-right: 0.25em;color: #696969;}#sk-container-id-1 label.sk-toggleable__label-arrow:hover:before {color: black;}#sk-container-id-1 div.sk-estimator:hover label.sk-toggleable__label-arrow:before {color: black;}#sk-container-id-1 div.sk-toggleable__content {max-height: 0;max-width: 0;overflow: hidden;text-align: left;background-color: #f0f8ff;}#sk-container-id-1 div.sk-toggleable__content pre {margin: 0.2em;color: black;border-radius: 0.25em;background-color: #f0f8ff;}#sk-container-id-1 input.sk-toggleable__control:checked~div.sk-toggleable__content {max-height: 200px;max-width: 100%;overflow: auto;}#sk-container-id-1 input.sk-toggleable__control:checked~label.sk-toggleable__label-arrow:before {content: \"▾\";}#sk-container-id-1 div.sk-estimator input.sk-toggleable__control:checked~label.sk-toggleable__label {background-color: #d4ebff;}#sk-container-id-1 div.sk-label input.sk-toggleable__control:checked~label.sk-toggleable__label {background-color: #d4ebff;}#sk-container-id-1 input.sk-hidden--visually {border: 0;clip: rect(1px 1px 1px 1px);clip: rect(1px, 1px, 1px, 1px);height: 1px;margin: -1px;overflow: hidden;padding: 0;position: absolute;width: 1px;}#sk-container-id-1 div.sk-estimator {font-family: monospace;background-color: #f0f8ff;border: 1px dotted black;border-radius: 0.25em;box-sizing: border-box;margin-bottom: 0.5em;}#sk-container-id-1 div.sk-estimator:hover {background-color: #d4ebff;}#sk-container-id-1 div.sk-parallel-item::after {content: \"\";width: 100%;border-bottom: 1px solid gray;flex-grow: 1;}#sk-container-id-1 div.sk-label:hover label.sk-toggleable__label {background-color: #d4ebff;}#sk-container-id-1 div.sk-serial::before {content: \"\";position: absolute;border-left: 1px solid gray;box-sizing: border-box;top: 0;bottom: 0;left: 50%;z-index: 0;}#sk-container-id-1 div.sk-serial {display: flex;flex-direction: column;align-items: center;background-color: white;padding-right: 0.2em;padding-left: 0.2em;position: relative;}#sk-container-id-1 div.sk-item {position: relative;z-index: 1;}#sk-container-id-1 div.sk-parallel {display: flex;align-items: stretch;justify-content: center;background-color: white;position: relative;}#sk-container-id-1 div.sk-item::before, #sk-container-id-1 div.sk-parallel-item::before {content: \"\";position: absolute;border-left: 1px solid gray;box-sizing: border-box;top: 0;bottom: 0;left: 50%;z-index: -1;}#sk-container-id-1 div.sk-parallel-item {display: flex;flex-direction: column;z-index: 1;position: relative;background-color: white;}#sk-container-id-1 div.sk-parallel-item:first-child::after {align-self: flex-end;width: 50%;}#sk-container-id-1 div.sk-parallel-item:last-child::after {align-self: flex-start;width: 50%;}#sk-container-id-1 div.sk-parallel-item:only-child::after {width: 0;}#sk-container-id-1 div.sk-dashed-wrapped {border: 1px dashed gray;margin: 0 0.4em 0.5em 0.4em;box-sizing: border-box;padding-bottom: 0.4em;background-color: white;}#sk-container-id-1 div.sk-label label {font-family: monospace;font-weight: bold;display: inline-block;line-height: 1.2em;}#sk-container-id-1 div.sk-label-container {text-align: center;}#sk-container-id-1 div.sk-container {/* jupyter's `normalize.less` sets `[hidden] { display: none; }` but bootstrap.min.css set `[hidden] { display: none !important; }` so we also need the `!important` here to be able to override the default hidden behavior on the sphinx rendered scikit-learn.org. See: https://github.com/scikit-learn/scikit-learn/issues/21755 */display: inline-block !important;position: relative;}#sk-container-id-1 div.sk-text-repr-fallback {display: none;}</style><div id=\"sk-container-id-1\" class=\"sk-top-container\"><div class=\"sk-text-repr-fallback\"><pre>RandomizedSearchCV(cv=2,\n",
              "                   estimator=&lt;keras.wrappers.scikit_learn.KerasRegressor object at 0x7fc089e263e0&gt;,\n",
              "                   n_iter=3,\n",
              "                   param_distributions={&#x27;learning_rate&#x27;: &lt;scipy.stats._distn_infrastructure.rv_continuous_frozen object at 0x7fc089d20d60&gt;,\n",
              "                                        &#x27;n_hidden&#x27;: [0, 1, 2, 3],\n",
              "                                        &#x27;n_neurons&#x27;: array([ 1,  2,  3,  4,  5,  6,  7,  8,  9, 10, 11, 12, 13, 14, 15, 16, 17,\n",
              "       18, 19, 20, 21, 22, 23, 24, 25, 26, 27, 28, 29, 30, 31, 32, 33, 34,\n",
              "       35, 36, 37, 38, 39, 40, 41, 42, 43, 44, 45, 46, 47, 48, 49, 50, 51,\n",
              "       52, 53, 54, 55, 56, 57, 58, 59, 60, 61, 62, 63, 64, 65, 66, 67, 68,\n",
              "       69, 70, 71, 72, 73, 74, 75, 76, 77, 78, 79, 80, 81, 82, 83, 84, 85,\n",
              "       86, 87, 88, 89, 90, 91, 92, 93, 94, 95, 96, 97, 98, 99])},\n",
              "                   verbose=2)</pre><b>In a Jupyter environment, please rerun this cell to show the HTML representation or trust the notebook. <br />On GitHub, the HTML representation is unable to render, please try loading this page with nbviewer.org.</b></div><div class=\"sk-container\" hidden><div class=\"sk-item sk-dashed-wrapped\"><div class=\"sk-label-container\"><div class=\"sk-label sk-toggleable\"><input class=\"sk-toggleable__control sk-hidden--visually\" id=\"sk-estimator-id-1\" type=\"checkbox\" ><label for=\"sk-estimator-id-1\" class=\"sk-toggleable__label sk-toggleable__label-arrow\">RandomizedSearchCV</label><div class=\"sk-toggleable__content\"><pre>RandomizedSearchCV(cv=2,\n",
              "                   estimator=&lt;keras.wrappers.scikit_learn.KerasRegressor object at 0x7fc089e263e0&gt;,\n",
              "                   n_iter=3,\n",
              "                   param_distributions={&#x27;learning_rate&#x27;: &lt;scipy.stats._distn_infrastructure.rv_continuous_frozen object at 0x7fc089d20d60&gt;,\n",
              "                                        &#x27;n_hidden&#x27;: [0, 1, 2, 3],\n",
              "                                        &#x27;n_neurons&#x27;: array([ 1,  2,  3,  4,  5,  6,  7,  8,  9, 10, 11, 12, 13, 14, 15, 16, 17,\n",
              "       18, 19, 20, 21, 22, 23, 24, 25, 26, 27, 28, 29, 30, 31, 32, 33, 34,\n",
              "       35, 36, 37, 38, 39, 40, 41, 42, 43, 44, 45, 46, 47, 48, 49, 50, 51,\n",
              "       52, 53, 54, 55, 56, 57, 58, 59, 60, 61, 62, 63, 64, 65, 66, 67, 68,\n",
              "       69, 70, 71, 72, 73, 74, 75, 76, 77, 78, 79, 80, 81, 82, 83, 84, 85,\n",
              "       86, 87, 88, 89, 90, 91, 92, 93, 94, 95, 96, 97, 98, 99])},\n",
              "                   verbose=2)</pre></div></div></div><div class=\"sk-parallel\"><div class=\"sk-parallel-item\"><div class=\"sk-item\"><div class=\"sk-label-container\"><div class=\"sk-label sk-toggleable\"><input class=\"sk-toggleable__control sk-hidden--visually\" id=\"sk-estimator-id-2\" type=\"checkbox\" ><label for=\"sk-estimator-id-2\" class=\"sk-toggleable__label sk-toggleable__label-arrow\">estimator: KerasRegressor</label><div class=\"sk-toggleable__content\"><pre>&lt;keras.wrappers.scikit_learn.KerasRegressor object at 0x7fc089e263e0&gt;</pre></div></div></div><div class=\"sk-serial\"><div class=\"sk-item\"><div class=\"sk-estimator sk-toggleable\"><input class=\"sk-toggleable__control sk-hidden--visually\" id=\"sk-estimator-id-3\" type=\"checkbox\" ><label for=\"sk-estimator-id-3\" class=\"sk-toggleable__label sk-toggleable__label-arrow\">KerasRegressor</label><div class=\"sk-toggleable__content\"><pre>&lt;keras.wrappers.scikit_learn.KerasRegressor object at 0x7fc089e263e0&gt;</pre></div></div></div></div></div></div></div></div></div></div>"
            ]
          },
          "metadata": {},
          "execution_count": 38
        }
      ]
    },
    {
      "cell_type": "code",
      "source": [
        "rnd_search_cv.best_params_"
      ],
      "metadata": {
        "colab": {
          "base_uri": "https://localhost:8080/"
        },
        "id": "_4ck4dfXH2O3",
        "outputId": "c8a1998d-2e5f-4990-a20c-2797528b2215"
      },
      "execution_count": 39,
      "outputs": [
        {
          "output_type": "execute_result",
          "data": {
            "text/plain": [
              "{'learning_rate': 0.001683454924600351, 'n_hidden': 0, 'n_neurons': 15}"
            ]
          },
          "metadata": {},
          "execution_count": 39
        }
      ]
    },
    {
      "cell_type": "code",
      "source": [
        "rnd_search_cv.best_score_"
      ],
      "metadata": {
        "colab": {
          "base_uri": "https://localhost:8080/"
        },
        "id": "y_F08qxaIKGA",
        "outputId": "87c36801-3a1b-4b58-ad4c-37d02c307964"
      },
      "execution_count": 40,
      "outputs": [
        {
          "output_type": "execute_result",
          "data": {
            "text/plain": [
              "-0.5774253010749817"
            ]
          },
          "metadata": {},
          "execution_count": 40
        }
      ]
    },
    {
      "cell_type": "code",
      "source": [
        "model = rnd_search_cv.best_estimator_.model\n",
        "model"
      ],
      "metadata": {
        "colab": {
          "base_uri": "https://localhost:8080/"
        },
        "id": "5a-vdtXsIMQa",
        "outputId": "4f5176fc-8d07-4e4a-c764-3fd6ad6dc73b"
      },
      "execution_count": 41,
      "outputs": [
        {
          "output_type": "execute_result",
          "data": {
            "text/plain": [
              "<keras.engine.sequential.Sequential at 0x7fc089e26a40>"
            ]
          },
          "metadata": {},
          "execution_count": 41
        }
      ]
    }
  ]
}